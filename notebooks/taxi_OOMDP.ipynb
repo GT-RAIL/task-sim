{
 "cells": [
  {
   "cell_type": "markdown",
   "metadata": {},
   "source": [
    "# Taxi OOMDP\n",
    "\n",
    "This notebook tests and evaluates different algorithms on the Taxi World OOMDP"
   ]
  },
  {
   "cell_type": "code",
   "execution_count": null,
   "metadata": {},
   "outputs": [],
   "source": [
    "%matplotlib inline\n",
    "%load_ext autoreload\n",
    "%autoreload 2"
   ]
  },
  {
   "cell_type": "markdown",
   "metadata": {},
   "source": [
    "Load in the MDP and the associated packages required for that"
   ]
  },
  {
   "cell_type": "code",
   "execution_count": null,
   "metadata": {},
   "outputs": [],
   "source": [
    "import os\n",
    "import sys\n",
    "import numpy as np\n",
    "\n",
    "from baselines.her.envs.oomdp_taxi import TaxiEnv"
   ]
  },
  {
   "cell_type": "markdown",
   "metadata": {},
   "source": [
    "Create the domain"
   ]
  },
  {
   "cell_type": "code",
   "execution_count": null,
   "metadata": {},
   "outputs": [],
   "source": [
    "env = TaxiEnv(layout='diuk_7x7', seed=1)\n",
    "mdp = env.mdp"
   ]
  },
  {
   "cell_type": "markdown",
   "metadata": {},
   "source": [
    "## Simple RL tests\n",
    "\n",
    "Tests of the taxi MDP as provided by the `simple_rl` package"
   ]
  },
  {
   "cell_type": "code",
   "execution_count": null,
   "metadata": {},
   "outputs": [],
   "source": [
    "from simple_rl.agents import QLearningAgent, RandomAgent, LinearQAgent, DQNAgent, RMaxAgent\n",
    "from simple_rl.run_experiments import run_agents_on_mdp, run_single_agent_on_mdp"
   ]
  },
  {
   "cell_type": "code",
   "execution_count": null,
   "metadata": {},
   "outputs": [],
   "source": [
    "# Define the agents\n",
    "ql_agent = QLearningAgent(actions=mdp.get_actions())\n",
    "rand_agent = RandomAgent(actions=mdp.get_actions())\n",
    "linear_ql_agent = LinearQAgent(\n",
    "    actions=mdp.get_actions(), num_features=mdp.get_num_state_feats(),\n",
    "    alpha=0.2, rbf=False\n",
    ")\n",
    "dqn_agent = DQNAgent(\n",
    "    actions=mdp.get_actions(),\n",
    "    x_dim=mdp.get_num_state_feats(), y_dim=1, num_channels=1\n",
    ")\n",
    "rmax_agent = RMaxAgent(actions=mdp.get_actions(), s_a_threshold=2)"
   ]
  },
  {
   "cell_type": "code",
   "execution_count": null,
   "metadata": {
    "scrolled": true
   },
   "outputs": [],
   "source": [
    "# Train and visualize one of the agents\n",
    "run_single_agent_on_mdp(\n",
    "    ql_agent, mdp,\n",
    "    episodes=500, steps=500,\n",
    "    verbose=True\n",
    ")"
   ]
  },
  {
   "cell_type": "code",
   "execution_count": null,
   "metadata": {},
   "outputs": [],
   "source": [
    "mdp.visualize_agent(rand_agent)"
   ]
  },
  {
   "cell_type": "code",
   "execution_count": null,
   "metadata": {
    "scrolled": true
   },
   "outputs": [],
   "source": [
    "run_agents_on_mdp(\n",
    "    [dqn_agent, linear_ql_agent, ql_agent, rand_agent],\n",
    "    mdp, instances=3, episodes=500, steps=200,\n",
    "    reset_at_terminal=True, open_plot=False\n",
    ")"
   ]
  },
  {
   "cell_type": "markdown",
   "metadata": {},
   "source": [
    "## Baselines RL tests\n",
    "\n",
    "Tests of the Taxi MDP with the algorithms in baselines"
   ]
  },
  {
   "cell_type": "code",
   "execution_count": null,
   "metadata": {},
   "outputs": [],
   "source": [
    "from baselines.her.experiment import train"
   ]
  },
  {
   "cell_type": "code",
   "execution_count": null,
   "metadata": {
    "scrolled": false
   },
   "outputs": [],
   "source": [
    "train.launch(\n",
    "    'Taxi-OOMDP-v1',\n",
    "    logdir=None,\n",
    "    n_epochs=500,\n",
    "    num_cpu=1,\n",
    "    seed=1,\n",
    "    policy_save_interval=5,\n",
    "    replay_strategy=\"future\",\n",
    "    clip_return=1\n",
    ")"
   ]
  }
 ],
 "metadata": {
  "kernelspec": {
   "display_name": "Python 3",
   "language": "python",
   "name": "python3"
  },
  "language_info": {
   "codemirror_mode": {
    "name": "ipython",
    "version": 3
   },
   "file_extension": ".py",
   "mimetype": "text/x-python",
   "name": "python",
   "nbconvert_exporter": "python",
   "pygments_lexer": "ipython3",
   "version": "3.6.5"
  }
 },
 "nbformat": 4,
 "nbformat_minor": 2
}
